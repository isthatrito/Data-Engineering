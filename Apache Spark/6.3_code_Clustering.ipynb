{
 "cells": [
  {
   "cell_type": "code",
   "execution_count": 1,
   "metadata": {},
   "outputs": [],
   "source": [
    "# start the Spark Context\n",
    "import findspark\n",
    "findspark.init()"
   ]
  },
  {
   "cell_type": "code",
   "execution_count": 2,
   "metadata": {},
   "outputs": [],
   "source": [
    "import pyspark # only run after findspark.init()\n",
    "from pyspark.sql import SparkSession\n",
    "spark = SparkSession.builder.getOrCreate()"
   ]
  },
  {
   "cell_type": "markdown",
   "metadata": {},
   "source": [
    "K-Means"
   ]
  },
  {
   "cell_type": "code",
   "execution_count": 3,
   "metadata": {},
   "outputs": [],
   "source": [
    "# k-means is one of the most commonly used clustering algorithms that clusters \n",
    "# the data points into a predefined number of clusters.\n",
    "from pyspark.ml.clustering import KMeans\n",
    "from pyspark.ml.evaluation import ClusteringEvaluator"
   ]
  },
  {
   "cell_type": "code",
   "execution_count": 4,
   "metadata": {},
   "outputs": [],
   "source": [
    "# Loads data.\n",
    "dataset = spark.read.format(\"libsvm\").load(\"sample_kmeans_data.txt\")"
   ]
  },
  {
   "cell_type": "code",
   "execution_count": 5,
   "metadata": {},
   "outputs": [
    {
     "name": "stdout",
     "output_type": "stream",
     "text": [
      "+-----+--------------------+\n",
      "|label|            features|\n",
      "+-----+--------------------+\n",
      "|  0.0|           (3,[],[])|\n",
      "|  1.0|(3,[0,1,2],[0.1,0...|\n",
      "|  2.0|(3,[0,1,2],[0.2,0...|\n",
      "|  3.0|(3,[0,1,2],[9.0,9...|\n",
      "|  4.0|(3,[0,1,2],[9.1,9...|\n",
      "|  5.0|(3,[0,1,2],[9.2,9...|\n",
      "+-----+--------------------+\n",
      "\n"
     ]
    }
   ],
   "source": [
    "dataset.show()"
   ]
  },
  {
   "cell_type": "code",
   "execution_count": 6,
   "metadata": {},
   "outputs": [],
   "source": [
    "# Trains a k-means model.\n",
    "kmeans = KMeans().setK(2).setSeed(1)\n",
    "model = kmeans.fit(dataset)"
   ]
  },
  {
   "cell_type": "code",
   "execution_count": 7,
   "metadata": {},
   "outputs": [],
   "source": [
    "# Make predictions\n",
    "predictions = model.transform(dataset)"
   ]
  },
  {
   "cell_type": "code",
   "execution_count": 8,
   "metadata": {},
   "outputs": [
    {
     "name": "stdout",
     "output_type": "stream",
     "text": [
      "+-----+--------------------+----------+\n",
      "|label|            features|prediction|\n",
      "+-----+--------------------+----------+\n",
      "|  0.0|           (3,[],[])|         0|\n",
      "|  1.0|(3,[0,1,2],[0.1,0...|         0|\n",
      "|  2.0|(3,[0,1,2],[0.2,0...|         0|\n",
      "|  3.0|(3,[0,1,2],[9.0,9...|         1|\n",
      "|  4.0|(3,[0,1,2],[9.1,9...|         1|\n",
      "|  5.0|(3,[0,1,2],[9.2,9...|         1|\n",
      "+-----+--------------------+----------+\n",
      "\n"
     ]
    }
   ],
   "source": [
    "predictions.show()"
   ]
  },
  {
   "cell_type": "code",
   "execution_count": 9,
   "metadata": {},
   "outputs": [],
   "source": [
    "# Evaluate clustering by computing Silhouette score\n",
    "evaluator = ClusteringEvaluator()"
   ]
  },
  {
   "cell_type": "code",
   "execution_count": 10,
   "metadata": {},
   "outputs": [
    {
     "name": "stdout",
     "output_type": "stream",
     "text": [
      "Silhouette with squared euclidean distance = 0.9997530305375207\n"
     ]
    }
   ],
   "source": [
    "# The silhouette value is a measure of how similar an object is to its \n",
    "# own cluster (cohesion) compared to other clusters (separation).\n",
    "silhouette = evaluator.evaluate(predictions)\n",
    "print(\"Silhouette with squared euclidean distance = \" + str(silhouette))"
   ]
  },
  {
   "cell_type": "code",
   "execution_count": 11,
   "metadata": {},
   "outputs": [
    {
     "name": "stdout",
     "output_type": "stream",
     "text": [
      "Cluster Centers: \n",
      "[0.1 0.1 0.1]\n",
      "[9.1 9.1 9.1]\n"
     ]
    }
   ],
   "source": [
    "# Shows the result.\n",
    "centers = model.clusterCenters()\n",
    "print(\"Cluster Centers: \")\n",
    "for center in centers:\n",
    "    print(center)"
   ]
  },
  {
   "cell_type": "markdown",
   "metadata": {},
   "source": [
    "Latent Dirichlet Allocation (LDA)"
   ]
  },
  {
   "cell_type": "code",
   "execution_count": 12,
   "metadata": {},
   "outputs": [],
   "source": [
    "# LDA represents documents as a mixture of topics that identify words with \n",
    "# certain probabilities.\n",
    "from pyspark.ml.clustering import LDA"
   ]
  },
  {
   "cell_type": "code",
   "execution_count": 13,
   "metadata": {},
   "outputs": [],
   "source": [
    "# Loads data.\n",
    "dataset = spark.read.format(\"libsvm\").load(\"sample_lda_libsvm_data.txt\")"
   ]
  },
  {
   "cell_type": "code",
   "execution_count": 14,
   "metadata": {},
   "outputs": [
    {
     "name": "stdout",
     "output_type": "stream",
     "text": [
      "+-----+--------------------+\n",
      "|label|            features|\n",
      "+-----+--------------------+\n",
      "|  0.0|(11,[0,1,2,4,5,6,...|\n",
      "|  1.0|(11,[0,1,3,4,7,10...|\n",
      "|  2.0|(11,[0,1,2,5,6,8,...|\n",
      "|  3.0|(11,[0,1,3,6,8,9,...|\n",
      "|  4.0|(11,[0,1,2,3,4,6,...|\n",
      "|  5.0|(11,[0,1,3,4,5,6,...|\n",
      "|  6.0|(11,[0,1,3,6,8,9,...|\n",
      "|  7.0|(11,[0,1,2,3,4,5,...|\n",
      "|  8.0|(11,[0,1,3,4,5,6,...|\n",
      "|  9.0|(11,[0,1,2,4,6,8,...|\n",
      "| 10.0|(11,[0,1,2,3,5,6,...|\n",
      "| 11.0|(11,[0,1,4,5,6,7,...|\n",
      "+-----+--------------------+\n",
      "\n"
     ]
    }
   ],
   "source": [
    "dataset.show()"
   ]
  },
  {
   "cell_type": "code",
   "execution_count": 15,
   "metadata": {},
   "outputs": [],
   "source": [
    "# Trains a LDA model.\n",
    "lda = LDA(k=10, maxIter=10)\n",
    "model = lda.fit(dataset)"
   ]
  },
  {
   "cell_type": "code",
   "execution_count": 16,
   "metadata": {},
   "outputs": [
    {
     "name": "stdout",
     "output_type": "stream",
     "text": [
      "The lower bound on the log likelihood of the entire corpus: -780.6088066046375\n",
      "The upper bound on perplexity: 3.002341556818048\n"
     ]
    }
   ],
   "source": [
    "ll = model.logLikelihood(dataset)\n",
    "lp = model.logPerplexity(dataset)\n",
    "print(\"The lower bound on the log likelihood of the entire corpus: \" + str(ll))\n",
    "print(\"The upper bound on perplexity: \" + str(lp))"
   ]
  },
  {
   "cell_type": "code",
   "execution_count": 17,
   "metadata": {},
   "outputs": [
    {
     "name": "stdout",
     "output_type": "stream",
     "text": [
      "The topics described by their top-weighted terms:\n",
      "+-----+-----------+---------------------------------------------------------------+\n",
      "|topic|termIndices|termWeights                                                    |\n",
      "+-----+-----------+---------------------------------------------------------------+\n",
      "|0    |[10, 6, 2] |[0.09943625304073225, 0.09656861173688167, 0.09444596832167373]|\n",
      "|1    |[7, 3, 4]  |[0.10233471045862663, 0.10102649230424836, 0.09522666933010829]|\n",
      "|2    |[6, 3, 10] |[0.10301447441084771, 0.0975497952238186, 0.09672088440203121] |\n",
      "|3    |[5, 4, 1]  |[0.1751152052600677, 0.1355111841618985, 0.12503611536090373]  |\n",
      "|4    |[6, 7, 2]  |[0.10084575392429412, 0.09929275794167297, 0.09818559610016428]|\n",
      "|5    |[7, 3, 8]  |[0.10871077644897749, 0.10730095470606255, 0.10214692001601644]|\n",
      "|6    |[1, 6, 9]  |[0.10389867465851156, 0.10034711060364988, 0.0989482022707671] |\n",
      "|7    |[3, 10, 9] |[0.20090550775001445, 0.14359143107060254, 0.13969216127267556]|\n",
      "|8    |[5, 2, 9]  |[0.10279637297732816, 0.10145151814802741, 0.09715205829934552]|\n",
      "|9    |[5, 4, 7]  |[0.10608928603784472, 0.09931001084318755, 0.09433759252724605]|\n",
      "+-----+-----------+---------------------------------------------------------------+\n",
      "\n"
     ]
    }
   ],
   "source": [
    "# Describe topics.\n",
    "topics = model.describeTopics(3)\n",
    "print(\"The topics described by their top-weighted terms:\")\n",
    "topics.show(truncate=False)"
   ]
  },
  {
   "cell_type": "code",
   "execution_count": 18,
   "metadata": {
    "scrolled": true
   },
   "outputs": [
    {
     "name": "stdout",
     "output_type": "stream",
     "text": [
      "+-----+---------------------------------------------------------------+----------------------------------------------------------------------------------------------------------------------------------------------------------------------------------------------------------------------+\n",
      "|label|features                                                       |topicDistribution                                                                                                                                                                                                     |\n",
      "+-----+---------------------------------------------------------------+----------------------------------------------------------------------------------------------------------------------------------------------------------------------------------------------------------------------+\n",
      "|0.0  |(11,[0,1,2,4,5,6,7,10],[1.0,2.0,6.0,2.0,3.0,1.0,1.0,3.0])      |[0.0046745740897159846,0.004674496658531129,0.004674549198917468,0.9571709260379251,0.004674546884363594,0.0046745145701289305,0.004674536456611632,0.005432784509997032,0.004674539413899045,0.004674532179910035]   |\n",
      "|1.0  |(11,[0,1,3,4,7,10],[1.0,3.0,1.0,3.0,2.0,1.0])                  |[0.007801314897104213,0.007801361365465178,0.007801359728511321,0.9285186162046263,0.007801315370536833,0.007801406660283752,0.00780129752292717,0.009070807562483739,0.0078012351464160235,0.007801285541645538]     |\n",
      "|2.0  |(11,[0,1,2,5,6,8,9],[1.0,4.0,1.0,4.0,9.0,1.0,2.0])             |[0.0040638563518841375,0.004063817890347109,0.004063872550093232,0.3646627074264162,0.00406384254635107,0.004063817454529281,0.004063898268302137,0.6028265139065828,0.004063846197437201,0.004063827408056899]       |\n",
      "|3.0  |(11,[0,1,3,6,8,9,10],[2.0,1.0,3.0,5.0,2.0,3.0,9.0])            |[0.0035941357591742725,0.003594090979058623,0.0035941305353595215,0.004081137780538281,0.003594116121719926,0.003594136025141726,0.003594129881238908,0.9671659319377216,0.0035940923684869767,0.003594098611560222]  |\n",
      "|4.0  |(11,[0,1,2,3,4,6,9,10],[3.0,1.0,1.0,9.0,3.0,2.0,1.0,3.0])      |[0.0038941287196214394,0.003894110873657792,0.003894132997678804,0.004422508984522381,0.0038941239957867853,0.0038941158150801645,0.003894113895119216,0.9644245553708158,0.00389410816660574,0.0038941011811117502]  |\n",
      "|5.0  |(11,[0,1,3,4,5,6,7,8,9],[4.0,2.0,3.0,4.0,5.0,1.0,1.0,1.0,4.0]) |[0.0035941906896857813,0.003594196537276415,0.003594183623844088,0.5123340275596211,0.0035941721833880535,0.003594191060016161,0.003594209547266933,0.4589124356633427,0.0035942022443179525,0.0035941908912409098]   |\n",
      "|6.0  |(11,[0,1,3,6,8,9,10],[2.0,1.0,3.0,5.0,2.0,2.0,9.0])            |[0.003738131053131884,0.003738082056885617,0.0037381276976210472,0.004244654590083763,0.0037381098783424247,0.0037381409528841262,0.003738120370426077,0.9658504591746955,0.003738082801321051,0.0037380914246084303] |\n",
      "|7.0  |(11,[0,1,2,3,4,5,6,9,10],[1.0,1.0,1.0,9.0,2.0,1.0,2.0,1.0,3.0])|[0.0042487983662664805,0.004248780343932898,0.004248802273592313,0.004826476350439278,0.004248777954910385,0.004248780072042383,0.004248784488742627,0.9611832271953912,0.004248786958093692,0.004248785996588767]    |\n",
      "|8.0  |(11,[0,1,3,4,5,6,7],[4.0,4.0,3.0,4.0,2.0,1.0,3.0])             |[0.004248845303716427,0.0042488677074277075,0.004248861506370581,0.7424015756302516,0.004248845312601154,0.004248868222893832,0.004248856816508678,0.22360761273419688,0.004248834535568803,0.0042488322304644315]    |\n",
      "|9.0  |(11,[0,1,2,4,6,8,9,10],[2.0,8.0,2.0,3.0,2.0,2.0,7.0,2.0])      |[0.0032219054950270456,0.0032218916478237054,0.003221905149198062,0.0036603396425060886,0.003221911509300291,0.0032218782801243556,0.003221933773145062,0.9705644341540818,0.0032219128830083383,0.003221887465785211]|\n",
      "|10.0 |(11,[0,1,2,3,5,6,9,10],[1.0,1.0,1.0,9.0,2.0,2.0,3.0,3.0])      |[0.0040637589429842556,0.00406374404839694,0.00406375615739538,0.004615619377841798,0.00406372322325282,0.004063739918064293,0.004063754178568061,0.9628743787024237,0.004063768244539876,0.004063757206532917]       |\n",
      "|11.0 |(11,[0,1,4,5,6,7,9],[4.0,1.0,4.0,5.0,1.0,3.0,1.0])             |[0.004674526635976237,0.004674523142437682,0.004674510633312408,0.9571712643174675,0.004674509951557412,0.004674509209904638,0.004674548754175999,0.00543255971615118,0.004674532265202122,0.004674515373815007]      |\n",
      "+-----+---------------------------------------------------------------+----------------------------------------------------------------------------------------------------------------------------------------------------------------------------------------------------------------------+\n",
      "\n"
     ]
    }
   ],
   "source": [
    "# Shows the result of label, features, and topic Distribution\n",
    "transformed = model.transform(dataset)\n",
    "transformed.show(truncate=False)"
   ]
  },
  {
   "cell_type": "code",
   "execution_count": 19,
   "metadata": {},
   "outputs": [],
   "source": [
    "spark.stop()"
   ]
  },
  {
   "cell_type": "code",
   "execution_count": null,
   "metadata": {},
   "outputs": [],
   "source": []
  }
 ],
 "metadata": {
  "kernelspec": {
   "display_name": "Python 3",
   "language": "python",
   "name": "python3"
  },
  "language_info": {
   "codemirror_mode": {
    "name": "ipython",
    "version": 3
   },
   "file_extension": ".py",
   "mimetype": "text/x-python",
   "name": "python",
   "nbconvert_exporter": "python",
   "pygments_lexer": "ipython3",
   "version": "3.6.7"
  }
 },
 "nbformat": 4,
 "nbformat_minor": 2
}
