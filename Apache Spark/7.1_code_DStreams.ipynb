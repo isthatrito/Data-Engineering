{
 "cells": [
  {
   "cell_type": "code",
   "execution_count": null,
   "metadata": {},
   "outputs": [],
   "source": [
    "# Example 1"
   ]
  },
  {
   "cell_type": "code",
   "execution_count": null,
   "metadata": {},
   "outputs": [],
   "source": [
    "# start the Spark Context\n",
    "import findspark\n",
    "findspark.init()"
   ]
  },
  {
   "cell_type": "code",
   "execution_count": null,
   "metadata": {},
   "outputs": [],
   "source": [
    "import pyspark \n"
   ]
  },
  {
   "cell_type": "code",
   "execution_count": null,
   "metadata": {},
   "outputs": [],
   "source": [
    "from pyspark import SparkContext\n",
    "from pyspark.streaming import StreamingContext\n",
    "\n",
    "# Create a local StreamingContext with two working thread and \n",
    "# batch interval of 1 second\n",
    "sc = SparkContext(\"local[2]\", \"NetworkWordCount\")\n",
    "ssc = StreamingContext(sc, 1)"
   ]
  },
  {
   "cell_type": "code",
   "execution_count": null,
   "metadata": {},
   "outputs": [],
   "source": [
    "# This lines DStream represents the stream of data that will be \n",
    "# received from the data server. Each record in this DStream is a \n",
    "# line of text.\n",
    "\n",
    "# Create a DStream that will connect to \n",
    "# hostname:port, like localhost:9999\n",
    "lines = ssc.socketTextStream(\"localhost\", 9999)"
   ]
  },
  {
   "cell_type": "code",
   "execution_count": null,
   "metadata": {},
   "outputs": [],
   "source": [
    "# flatMap is a one-to-many DStream operation that creates a new DStream by\n",
    "# generating multiple new records from each record in the source DStream. \n",
    "# In this case, each line will be split into multiple words and the stream \n",
    "# of words is represented as the words DStream.\n",
    "\n",
    "# Split each line into words\n",
    "words = lines.flatMap(lambda line: line.split(\" \"))"
   ]
  },
  {
   "cell_type": "code",
   "execution_count": null,
   "metadata": {},
   "outputs": [],
   "source": [
    "# Transformations yield a new DStream from a previous one.\n",
    "# Count each word in each batch\n",
    "pairs = words.map(lambda word: (word, 1))\n",
    "wordCounts = pairs.reduceByKey(lambda x, y: x + y)\n",
    "\n",
    "# Print the first ten elements of each RDD generated in this DStream \n",
    "wordCounts.pprint()"
   ]
  },
  {
   "cell_type": "code",
   "execution_count": null,
   "metadata": {
    "scrolled": false
   },
   "outputs": [],
   "source": [
    "# In the terminal, run a Netcat as a data server\n",
    "# $ nc -lk 9999\n",
    "# Then, input any words you want with some repetition amongst the words.\n",
    "\n",
    "\n",
    "# Note that when these lines are executed, Spark Streaming only sets up \n",
    "# the computation it will perform when it is started, and no real \n",
    "# processing has started yet.\n",
    "\n",
    "ssc.start()             # Start the computation\n",
    "ssc.awaitTermination()  # Wait for the computation to terminate"
   ]
  },
  {
   "cell_type": "code",
   "execution_count": null,
   "metadata": {},
   "outputs": [],
   "source": [
    "ssc.stop()"
   ]
  },
  {
   "cell_type": "code",
   "execution_count": null,
   "metadata": {},
   "outputs": [],
   "source": []
  },
  {
   "cell_type": "code",
   "execution_count": null,
   "metadata": {},
   "outputs": [],
   "source": [
    "# Example 2"
   ]
  },
  {
   "cell_type": "code",
   "execution_count": 1,
   "metadata": {},
   "outputs": [],
   "source": [
    "# start the Spark Context\n",
    "import findspark\n",
    "findspark.init()"
   ]
  },
  {
   "cell_type": "code",
   "execution_count": 2,
   "metadata": {},
   "outputs": [],
   "source": [
    "import pyspark "
   ]
  },
  {
   "cell_type": "code",
   "execution_count": 3,
   "metadata": {},
   "outputs": [],
   "source": [
    "from operator import add, sub\n",
    "from time import sleep\n",
    "from pyspark import SparkContext\n",
    "from pyspark.streaming import StreamingContext"
   ]
  },
  {
   "cell_type": "code",
   "execution_count": 4,
   "metadata": {
    "scrolled": true
   },
   "outputs": [],
   "source": [
    "# Set up the Spark context and the streaming context\n",
    "sc = SparkContext(appName=\"StreamExample\")\n",
    "ssc = StreamingContext(sc, 1)"
   ]
  },
  {
   "cell_type": "code",
   "execution_count": null,
   "metadata": {},
   "outputs": [],
   "source": [
    "# stop the kernel\n",
    "# Control + C in terminal for Netcat server"
   ]
  },
  {
   "cell_type": "code",
   "execution_count": 5,
   "metadata": {},
   "outputs": [],
   "source": [
    "# Queue of RDDs as a Stream\n",
    "# For testing a Spark Streaming application with test data, one can also \n",
    "# create a DStream based on a queue of RDDs, using \n",
    "# streamingContext.queueStream(queueOfRDDs). Each RDD pushed into the \n",
    "# queue will be treated as a batch of data in the DStream, and processed \n",
    "#like a stream.\n",
    "\n",
    "# Input data\n",
    "rddQueue = []\n",
    "for x in range(5):\n",
    "    rddQueue += [ssc.sparkContext.parallelize([x, x+1])]"
   ]
  },
  {
   "cell_type": "code",
   "execution_count": 6,
   "metadata": {},
   "outputs": [],
   "source": [
    "inputStream = ssc.queueStream(rddQueue)"
   ]
  },
  {
   "cell_type": "code",
   "execution_count": 7,
   "metadata": {},
   "outputs": [],
   "source": [
    "inputStream.map(lambda x: \"Input: \" + str(x)).pprint()\n",
    "\n",
    "# perform addition with reduce function\n",
    "# pprint() is not lazy and should compute right away\n",
    "inputStream.reduce(add)\\\n",
    "    .map(lambda x: \"Output: \" + str(x))\\\n",
    "    .pprint()"
   ]
  },
  {
   "cell_type": "code",
   "execution_count": 8,
   "metadata": {},
   "outputs": [
    {
     "name": "stdout",
     "output_type": "stream",
     "text": [
      "-------------------------------------------\n",
      "Time: 2019-01-22 16:19:29\n",
      "-------------------------------------------\n",
      "Input: 0\n",
      "Input: 1\n",
      "\n",
      "-------------------------------------------\n",
      "Time: 2019-01-22 16:19:29\n",
      "-------------------------------------------\n",
      "Output: 1\n",
      "\n",
      "-------------------------------------------\n",
      "Time: 2019-01-22 16:19:30\n",
      "-------------------------------------------\n",
      "Input: 1\n",
      "Input: 2\n",
      "\n",
      "-------------------------------------------\n",
      "Time: 2019-01-22 16:19:30\n",
      "-------------------------------------------\n",
      "Output: 3\n",
      "\n",
      "-------------------------------------------\n",
      "Time: 2019-01-22 16:19:31\n",
      "-------------------------------------------\n",
      "Input: 2\n",
      "Input: 3\n",
      "\n",
      "-------------------------------------------\n",
      "Time: 2019-01-22 16:19:31\n",
      "-------------------------------------------\n",
      "Output: 5\n",
      "\n",
      "-------------------------------------------\n",
      "Time: 2019-01-22 16:19:32\n",
      "-------------------------------------------\n",
      "Input: 3\n",
      "Input: 4\n",
      "\n",
      "-------------------------------------------\n",
      "Time: 2019-01-22 16:19:32\n",
      "-------------------------------------------\n",
      "Output: 7\n",
      "\n",
      "-------------------------------------------\n",
      "Time: 2019-01-22 16:19:33\n",
      "-------------------------------------------\n",
      "Input: 4\n",
      "Input: 5\n",
      "\n",
      "-------------------------------------------\n",
      "Time: 2019-01-22 16:19:33\n",
      "-------------------------------------------\n",
      "Output: 9\n",
      "\n",
      "-------------------------------------------\n",
      "Time: 2019-01-22 16:19:34\n",
      "-------------------------------------------\n",
      "\n",
      "-------------------------------------------\n",
      "Time: 2019-01-22 16:19:34\n",
      "-------------------------------------------\n",
      "\n",
      "-------------------------------------------\n",
      "Time: 2019-01-22 16:19:35\n",
      "-------------------------------------------\n",
      "\n",
      "-------------------------------------------\n",
      "Time: 2019-01-22 16:19:35\n",
      "-------------------------------------------\n",
      "\n",
      "-------------------------------------------\n",
      "Time: 2019-01-22 16:19:36\n",
      "-------------------------------------------\n",
      "\n",
      "-------------------------------------------\n",
      "Time: 2019-01-22 16:19:36\n",
      "-------------------------------------------\n",
      "\n"
     ]
    }
   ],
   "source": [
    "ssc.start()\n",
    "sleep(5)\n",
    "ssc.stop(stopSparkContext=True, stopGraceFully=True)"
   ]
  },
  {
   "cell_type": "code",
   "execution_count": 9,
   "metadata": {},
   "outputs": [],
   "source": [
    "ssc.stop()"
   ]
  },
  {
   "cell_type": "code",
   "execution_count": null,
   "metadata": {},
   "outputs": [],
   "source": []
  }
 ],
 "metadata": {
  "kernelspec": {
   "display_name": "Python 3",
   "language": "python",
   "name": "python3"
  },
  "language_info": {
   "codemirror_mode": {
    "name": "ipython",
    "version": 3
   },
   "file_extension": ".py",
   "mimetype": "text/x-python",
   "name": "python",
   "nbconvert_exporter": "python",
   "pygments_lexer": "ipython3",
   "version": "3.6.7"
  }
 },
 "nbformat": 4,
 "nbformat_minor": 2
}
