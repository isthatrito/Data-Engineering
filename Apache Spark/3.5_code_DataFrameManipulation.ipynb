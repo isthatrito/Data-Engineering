{
 "cells": [
  {
   "cell_type": "code",
   "execution_count": 1,
   "metadata": {},
   "outputs": [],
   "source": [
    "# start the Spark Context\n",
    "import findspark\n",
    "findspark.init()"
   ]
  },
  {
   "cell_type": "code",
   "execution_count": 2,
   "metadata": {},
   "outputs": [],
   "source": [
    "import pyspark # only run after findspark.init()"
   ]
  },
  {
   "cell_type": "code",
   "execution_count": 3,
   "metadata": {},
   "outputs": [],
   "source": [
    "from pyspark.sql import SparkSession\n",
    "sc = pyspark.SparkContext(appName=\"col\")"
   ]
  },
  {
   "cell_type": "code",
   "execution_count": 4,
   "metadata": {},
   "outputs": [],
   "source": [
    "spark = SparkSession.builder.getOrCreate()"
   ]
  },
  {
   "cell_type": "code",
   "execution_count": 5,
   "metadata": {},
   "outputs": [],
   "source": [
    "import pyspark.sql.functions as F\n",
    "from pyspark.sql.types import StructType, StructField, StringType, IntegerType"
   ]
  },
  {
   "cell_type": "code",
   "execution_count": 6,
   "metadata": {},
   "outputs": [],
   "source": [
    "# dataset as a list\n",
    "data = [('patty', 'spring', 'baseball', 64),\n",
    "        ('patty', 'autumn', 'soccer', 78),\n",
    "        ('matty', 'autumn', 'hockey', 90),\n",
    "        ('matty', 'spring', 'soccer', 64),\n",
    "        ('cathy', 'spring', 'baseball', 100),\n",
    "        ('cathy', 'autumn', 'hockey', 78),\n",
    "        ('sandy', 'autumn', 'soccer', 50),\n",
    "        ('joey', 'summer', 'soccer', 73),\n",
    "        ('tammy', 'spring', 'soccer', 86),\n",
    "        ('marley', 'autumn', 'hockey', 100)]"
   ]
  },
  {
   "cell_type": "code",
   "execution_count": 7,
   "metadata": {},
   "outputs": [
    {
     "data": {
      "text/plain": [
       "ParallelCollectionRDD[0] at parallelize at PythonRDD.scala:194"
      ]
     },
     "execution_count": 7,
     "metadata": {},
     "output_type": "execute_result"
    }
   ],
   "source": [
    "# create an rdd\n",
    "rdd = sc.parallelize(data)\n",
    "rdd"
   ]
  },
  {
   "cell_type": "code",
   "execution_count": 8,
   "metadata": {},
   "outputs": [],
   "source": [
    "# create a dataframe from an rdd and name the columns\n",
    "df = spark.createDataFrame(rdd, ['player', 'season', 'sport', 'ranking'])"
   ]
  },
  {
   "cell_type": "code",
   "execution_count": 9,
   "metadata": {},
   "outputs": [
    {
     "name": "stdout",
     "output_type": "stream",
     "text": [
      "+------+------+--------+-------+\n",
      "|player|season|   sport|ranking|\n",
      "+------+------+--------+-------+\n",
      "| patty|spring|baseball|     64|\n",
      "| patty|autumn|  soccer|     78|\n",
      "| matty|autumn|  hockey|     90|\n",
      "| matty|spring|  soccer|     64|\n",
      "| cathy|spring|baseball|    100|\n",
      "| cathy|autumn|  hockey|     78|\n",
      "| sandy|autumn|  soccer|     50|\n",
      "|  joey|summer|  soccer|     73|\n",
      "| tammy|spring|  soccer|     86|\n",
      "|marley|autumn|  hockey|    100|\n",
      "+------+------+--------+-------+\n",
      "\n"
     ]
    }
   ],
   "source": [
    "# display dataframe\n",
    "df.show()"
   ]
  },
  {
   "cell_type": "code",
   "execution_count": 10,
   "metadata": {},
   "outputs": [
    {
     "name": "stdout",
     "output_type": "stream",
     "text": [
      "+------------+\n",
      "|avg(ranking)|\n",
      "+------------+\n",
      "|        78.3|\n",
      "+------------+\n",
      "\n"
     ]
    }
   ],
   "source": [
    "# Show average (mean) ranking\n",
    "df.agg(\n",
    "    {'ranking': 'avg'}\n",
    ").show()"
   ]
  },
  {
   "cell_type": "code",
   "execution_count": 11,
   "metadata": {},
   "outputs": [
    {
     "name": "stdout",
     "output_type": "stream",
     "text": [
      "+----+---+---+\n",
      "|mean|min|max|\n",
      "+----+---+---+\n",
      "|78.3| 50|100|\n",
      "+----+---+---+\n",
      "\n"
     ]
    }
   ],
   "source": [
    "# Show the mean, min, and max for ranking\n",
    "df.agg(\n",
    "    F.mean(df.ranking).alias('mean'),\n",
    "    F.min(df.ranking).alias('min'),\n",
    "    F.max(df.ranking).alias('max')\n",
    ").show()"
   ]
  },
  {
   "cell_type": "code",
   "execution_count": 12,
   "metadata": {},
   "outputs": [
    {
     "name": "stdout",
     "output_type": "stream",
     "text": [
      "+------+------------+------------+\n",
      "|player|avg(ranking)|count(sport)|\n",
      "+------+------------+------------+\n",
      "|marley|       100.0|           1|\n",
      "| sandy|        50.0|           1|\n",
      "|  joey|        73.0|           1|\n",
      "| tammy|        86.0|           1|\n",
      "| cathy|        89.0|           2|\n",
      "| matty|        77.0|           2|\n",
      "| patty|        71.0|           2|\n",
      "+------+------------+------------+\n",
      "\n"
     ]
    }
   ],
   "source": [
    "# Group by player, show mean of ranking and count (# of sports)\n",
    "df.groupby('player').agg({'ranking': 'mean', 'sport': 'count'}).show()"
   ]
  },
  {
   "cell_type": "code",
   "execution_count": 13,
   "metadata": {},
   "outputs": [],
   "source": [
    "# create another dataset called meta\n",
    "meta = [('patty', 'community', 25),\n",
    "        ('matty', 'college', 35),\n",
    "        ('cathy', 'community', 40),\n",
    "        ('sandy', 'college', 60),\n",
    "        ('joey', 'community', 55),\n",
    "        ('tammy', 'college', 23),\n",
    "        ('marley', 'community', 45)]"
   ]
  },
  {
   "cell_type": "code",
   "execution_count": 14,
   "metadata": {},
   "outputs": [],
   "source": [
    "# create schema\n",
    "schema = StructType([\n",
    "    StructField('player', StringType(), True),\n",
    "    StructField('league', StringType(), True),\n",
    "    StructField('age', IntegerType(), True)\n",
    "])"
   ]
  },
  {
   "cell_type": "code",
   "execution_count": 15,
   "metadata": {},
   "outputs": [],
   "source": [
    "# create dataframe, using dataset and schema\n",
    "df_meta = spark.createDataFrame(meta, schema)"
   ]
  },
  {
   "cell_type": "code",
   "execution_count": 16,
   "metadata": {},
   "outputs": [
    {
     "name": "stdout",
     "output_type": "stream",
     "text": [
      "root\n",
      " |-- player: string (nullable = true)\n",
      " |-- league: string (nullable = true)\n",
      " |-- age: integer (nullable = true)\n",
      "\n"
     ]
    }
   ],
   "source": [
    "# print schema\n",
    "df_meta.printSchema()"
   ]
  },
  {
   "cell_type": "code",
   "execution_count": 17,
   "metadata": {},
   "outputs": [
    {
     "name": "stdout",
     "output_type": "stream",
     "text": [
      "+------+---------+---+\n",
      "|player|   league|age|\n",
      "+------+---------+---+\n",
      "| patty|community| 25|\n",
      "| matty|  college| 35|\n",
      "| cathy|community| 40|\n",
      "| sandy|  college| 60|\n",
      "|  joey|community| 55|\n",
      "| tammy|  college| 23|\n",
      "|marley|community| 45|\n",
      "+------+---------+---+\n",
      "\n"
     ]
    }
   ],
   "source": [
    "# show dataframe\n",
    "df_meta.show()"
   ]
  },
  {
   "cell_type": "code",
   "execution_count": 18,
   "metadata": {},
   "outputs": [
    {
     "name": "stdout",
     "output_type": "stream",
     "text": [
      "+------+------+--------+-------+---------+---+\n",
      "|player|season|   sport|ranking|   league|age|\n",
      "+------+------+--------+-------+---------+---+\n",
      "|marley|autumn|  hockey|    100|community| 45|\n",
      "| sandy|autumn|  soccer|     50|  college| 60|\n",
      "|  joey|summer|  soccer|     73|community| 55|\n",
      "| tammy|spring|  soccer|     86|  college| 23|\n",
      "| cathy|spring|baseball|    100|community| 40|\n",
      "| cathy|autumn|  hockey|     78|community| 40|\n",
      "| matty|autumn|  hockey|     90|  college| 35|\n",
      "| matty|spring|  soccer|     64|  college| 35|\n",
      "| patty|spring|baseball|     64|community| 25|\n",
      "| patty|autumn|  soccer|     78|community| 25|\n",
      "+------+------+--------+-------+---------+---+\n",
      "\n"
     ]
    }
   ],
   "source": [
    "# inner join on player, notice multiple entries\n",
    "df.join(df_meta, on='player', how='inner').show()"
   ]
  },
  {
   "cell_type": "code",
   "execution_count": 19,
   "metadata": {},
   "outputs": [
    {
     "name": "stdout",
     "output_type": "stream",
     "text": [
      "+------+------+--------+-------+---------+---+\n",
      "|player|season|   sport|ranking|   league|age|\n",
      "+------+------+--------+-------+---------+---+\n",
      "|marley|autumn|  hockey|    100|community| 45|\n",
      "| sandy|autumn|  soccer|     50|  college| 60|\n",
      "|  joey|summer|  soccer|     73|community| 55|\n",
      "| tammy|spring|  soccer|     86|  college| 23|\n",
      "| cathy|spring|baseball|    100|community| 40|\n",
      "| cathy|autumn|  hockey|     78|community| 40|\n",
      "| matty|autumn|  hockey|     90|  college| 35|\n",
      "| matty|spring|  soccer|     64|  college| 35|\n",
      "| patty|spring|baseball|     64|community| 25|\n",
      "| patty|autumn|  soccer|     78|community| 25|\n",
      "+------+------+--------+-------+---------+---+\n",
      "\n"
     ]
    }
   ],
   "source": [
    "# left outer join\n",
    "df_full = df.join(df_meta, on='player', how='leftouter')\n",
    "df_full.show()"
   ]
  },
  {
   "cell_type": "code",
   "execution_count": 20,
   "metadata": {},
   "outputs": [
    {
     "data": {
      "text/plain": [
       "DataFrame[player: string, season: string, sport: string, ranking: bigint, league: string, age: int]"
      ]
     },
     "execution_count": 20,
     "metadata": {},
     "output_type": "execute_result"
    }
   ],
   "source": [
    "# Use drop() to drop columns\n",
    "df_full.drop()"
   ]
  },
  {
   "cell_type": "code",
   "execution_count": 21,
   "metadata": {},
   "outputs": [
    {
     "name": "stdout",
     "output_type": "stream",
     "text": [
      "+---------+-----------------+------------------+\n",
      "|   league|     avg(ranking)|          avg(age)|\n",
      "+---------+-----------------+------------------+\n",
      "|  college|             72.5|             38.25|\n",
      "|community|82.16666666666667|38.333333333333336|\n",
      "+---------+-----------------+------------------+\n",
      "\n"
     ]
    }
   ],
   "source": [
    "# Group by league, show average ranking and average age\n",
    "df_full.groupby('league').mean().show()"
   ]
  },
  {
   "cell_type": "code",
   "execution_count": 22,
   "metadata": {},
   "outputs": [
    {
     "name": "stdout",
     "output_type": "stream",
     "text": [
      "+---------+--------+------+------------------+\n",
      "|   league|baseball|hockey|            soccer|\n",
      "+---------+--------+------+------------------+\n",
      "|  college|    null|  35.0|39.333333333333336|\n",
      "|community|    32.5|  42.5|              40.0|\n",
      "+---------+--------+------+------------------+\n",
      "\n"
     ]
    }
   ],
   "source": [
    "# Group by league, and pivot by sport. Show average age.\n",
    "df_full.groupby('league').pivot('sport').agg(F.mean('age')).show()\n",
    "\n",
    "# The only 2 baseball players were cathy and patty and both were in \n",
    "# community leagues so null shows up."
   ]
  },
  {
   "cell_type": "code",
   "execution_count": null,
   "metadata": {},
   "outputs": [],
   "source": [
    "\n",
    "\n",
    "\n",
    "\n",
    "\n"
   ]
  }
 ],
 "metadata": {
  "kernelspec": {
   "display_name": "Python 3",
   "language": "python",
   "name": "python3"
  },
  "language_info": {
   "codemirror_mode": {
    "name": "ipython",
    "version": 3
   },
   "file_extension": ".py",
   "mimetype": "text/x-python",
   "name": "python",
   "nbconvert_exporter": "python",
   "pygments_lexer": "ipython3",
   "version": "3.6.6"
  }
 },
 "nbformat": 4,
 "nbformat_minor": 2
}
