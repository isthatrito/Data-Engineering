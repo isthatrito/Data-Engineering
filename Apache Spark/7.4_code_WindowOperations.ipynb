{
 "cells": [
  {
   "cell_type": "code",
   "execution_count": null,
   "metadata": {},
   "outputs": [],
   "source": [
    "# Example of using Structured Streaming Window Operations"
   ]
  },
  {
   "cell_type": "code",
   "execution_count": null,
   "metadata": {},
   "outputs": [],
   "source": [
    "import findspark\n",
    "findspark.init()"
   ]
  },
  {
   "cell_type": "code",
   "execution_count": null,
   "metadata": {},
   "outputs": [],
   "source": [
    "import pyspark\n",
    "from pyspark import SparkContext"
   ]
  },
  {
   "cell_type": "code",
   "execution_count": null,
   "metadata": {},
   "outputs": [],
   "source": [
    "from pyspark.sql import Row, SparkSession\n",
    "from pyspark.sql.streaming import DataStreamWriter, DataStreamReader\n",
    "from pyspark.sql.functions import explode\n",
    "from pyspark.sql.functions import split\n",
    "from pyspark.sql.functions import window"
   ]
  },
  {
   "cell_type": "code",
   "execution_count": null,
   "metadata": {},
   "outputs": [],
   "source": [
    "spark = SparkSession.builder \\\n",
    "                    .appName(\"WindowedCount\") \\\n",
    "                    .master(\"local[*]\") \\\n",
    "                    .getOrCreate() \n",
    "spark.sparkContext.setLogLevel(\"ERROR\") "
   ]
  },
  {
   "cell_type": "code",
   "execution_count": null,
   "metadata": {},
   "outputs": [],
   "source": [
    "WindowSize = '40 seconds'\n",
    "SlidingInterval = '20 seconds'"
   ]
  },
  {
   "cell_type": "code",
   "execution_count": null,
   "metadata": {},
   "outputs": [],
   "source": [
    "# Set up the `lines` readStream to take in data from a socket stream, AND include the timestamp\n",
    "lines = spark.readStream.format(\"socket\")\\\n",
    "             .option(\"host\", \"localhost\")\\\n",
    "             .option(\"port\", 9999) \\\n",
    "             .option('includeTimestamp', 'true') \\\n",
    "             .load()"
   ]
  },
  {
   "cell_type": "code",
   "execution_count": null,
   "metadata": {},
   "outputs": [],
   "source": [
    "\n",
    "# Splitting the lines into words\n",
    "words = lines.select(explode(split(lines.value, \" \")) \\\n",
    "             .alias(\"word\"),lines.timestamp)"
   ]
  },
  {
   "cell_type": "code",
   "execution_count": null,
   "metadata": {},
   "outputs": [],
   "source": [
    "# Add a watermark to the data, using the timestamp\n",
    "words = words.withWatermark(\"timestamp\", \"5 seconds\")"
   ]
  },
  {
   "cell_type": "code",
   "execution_count": null,
   "metadata": {},
   "outputs": [],
   "source": [
    "# Write out the windowed wordcounts using groupBy(), window(), and count().\n",
    "windowedCounts = words.groupBy(window(words.timestamp, \\\n",
    "                      WindowSize, SlidingInterval),words.word).count()"
   ]
  },
  {
   "cell_type": "code",
   "execution_count": null,
   "metadata": {},
   "outputs": [],
   "source": [
    "# Before executing this cell, start netcat server 'nc -lk 9999' \n",
    "# and have it ready to input your own text\n",
    "# 'Hello World'\n",
    "# 'Apache Spark'\n",
    "# 'Spark is awesome'\n",
    "# 'Structured Streaming\n",
    "# 'Window Operations'\n",
    "\n",
    "query = windowedCounts.writeStream.outputMode(\"complete\").option(\"numRows\",\"1000\").option(\"truncate\",\"false\")\\\n",
    "                    .format(\"console\").start()\n",
    "\n",
    "query.awaitTermination()"
   ]
  },
  {
   "cell_type": "code",
   "execution_count": null,
   "metadata": {},
   "outputs": [],
   "source": []
  }
 ],
 "metadata": {
  "kernelspec": {
   "display_name": "Python 3",
   "language": "python",
   "name": "python3"
  },
  "language_info": {
   "codemirror_mode": {
    "name": "ipython",
    "version": 3
   },
   "file_extension": ".py",
   "mimetype": "text/x-python",
   "name": "python",
   "nbconvert_exporter": "python",
   "pygments_lexer": "ipython3",
   "version": "3.6.7"
  }
 },
 "nbformat": 4,
 "nbformat_minor": 2
}
