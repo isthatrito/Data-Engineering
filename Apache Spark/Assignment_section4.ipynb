{
 "cells": [
  {
   "cell_type": "code",
   "execution_count": null,
   "metadata": {},
   "outputs": [],
   "source": [
    "# In the first cell, type:\n",
    "import findspark\n",
    "findspark.init()"
   ]
  },
  {
   "cell_type": "code",
   "execution_count": null,
   "metadata": {},
   "outputs": [],
   "source": [
    "import pyspark # only run after findspark.init()\n",
    "from pyspark.sql import SparkSession\n",
    "spark = SparkSession.builder.getOrCreate()\n",
    "sc = spark.sparkContext"
   ]
  },
  {
   "cell_type": "code",
   "execution_count": null,
   "metadata": {},
   "outputs": [],
   "source": [
    "# other imports\n",
    "import pyspark.sql.functions as F\n",
    "from pyspark.sql.types import StructType, StructField, StringType, IntegerType\n",
    "\n",
    "import pandas as pd"
   ]
  },
  {
   "cell_type": "code",
   "execution_count": null,
   "metadata": {},
   "outputs": [],
   "source": [
    "# Sample dataset 1\n",
    "# Use this sample dataset that represents a  mock tobacco use research study\n",
    "\n",
    "tobacco1_data = {'ParticipantId': {0: 1, 1: 2, 2: 3, 3: 4, 4: 5, 5: 6},\n",
    "         'Name': {0: 'Joe', 1: 'Virginia', 2: 'Lucky', 3: 'Winston', 4: 'Marl', 5: 'Newport'},\n",
    "         'Sex': {0: 'male', 1: 'female', 2: 'female', 3: 'male', 4: 'male', 5: 'female'},\n",
    "         'Vaping': {0: 0, 1: 1, 2: 1, 3: 1, 4: 0, 5: 0}}"
   ]
  },
  {
   "cell_type": "code",
   "execution_count": null,
   "metadata": {},
   "outputs": [],
   "source": [
    "# Sample dataset 2\n",
    "tobacco2_data = {'ParticipantId': {0: 1, 1: 2, 2: 3, 3: 4, 4: 5, 5: 6},\n",
    "         'Age': {0: 25, 1: 38, 2: 47, 3: 54, 4: 35, 5: 90},\n",
    "         'CigarettesPerMonth': {0: 65, 1: 224, 2: 90, 3: 301, 4: 180, 5: 240},\n",
    "         'StudyWave': {0: 3, 1: 2, 2: 2, 3: 3, 4: 4, 5: 4}}"
   ]
  },
  {
   "cell_type": "code",
   "execution_count": null,
   "metadata": {},
   "outputs": [],
   "source": [
    "# create pandas dataframes df1_pd and df2_pd as shown below with code.\n",
    "df1_pd = pd.DataFrame(tobacco1_data, columns=tobacco1_data.keys())\n",
    "df2_pd = pd.DataFrame(tobacco2_data, columns=tobacco2_data.keys())"
   ]
  },
  {
   "cell_type": "code",
   "execution_count": null,
   "metadata": {},
   "outputs": [],
   "source": [
    "# Question 1.  Create 2 dataframes, df1 and df2, with spark.createDataFrame().\n",
    "# Use df1_pd and df2_pd as inputs.\n"
   ]
  },
  {
   "cell_type": "code",
   "execution_count": null,
   "metadata": {},
   "outputs": [],
   "source": [
    "# Question 2.  Display df1 with show().\n",
    "# Display dataframe as df1.\n"
   ]
  },
  {
   "cell_type": "code",
   "execution_count": null,
   "metadata": {},
   "outputs": [],
   "source": [
    "# Question 3.  Display df2 with show().\n",
    "# Display dataframe, df2.\n"
   ]
  },
  {
   "cell_type": "code",
   "execution_count": null,
   "metadata": {},
   "outputs": [],
   "source": [
    "# Question 4. Join df1 with df2 on ParticipantID and save as df_full.\n",
    "# Join the two dataframes\n"
   ]
  },
  {
   "cell_type": "code",
   "execution_count": null,
   "metadata": {},
   "outputs": [],
   "source": [
    "# Question 5. Verify object dataframe, df_full has been created.\n",
    "\n"
   ]
  },
  {
   "cell_type": "code",
   "execution_count": null,
   "metadata": {},
   "outputs": [],
   "source": [
    "# Question 6. Display the dataframe, df_full with show().\n"
   ]
  },
  {
   "cell_type": "code",
   "execution_count": null,
   "metadata": {},
   "outputs": [],
   "source": [
    "# Question 7.\n",
    "# Use pyspark.sql.functions as built in functions. Create a variable called \n",
    "# SmokerType and use the when clause to set up conditionals. When\n",
    "# CigarettesPerMonth is greater than 200, denote it as 'Heavy'. When\n",
    "# CigarettesPerMonth is greater than 100, denote it as 'Medium'. Otherwise,\n",
    "# denote as 'Light'.\n",
    "\n"
   ]
  },
  {
   "cell_type": "code",
   "execution_count": null,
   "metadata": {},
   "outputs": [],
   "source": [
    "# Question 8. Create another column in the dataframe, \n",
    "# using the withColumn('Smoker Type', SmokerType)\n",
    "# Use show() to display result.\n",
    "\n"
   ]
  },
  {
   "cell_type": "code",
   "execution_count": null,
   "metadata": {},
   "outputs": [],
   "source": [
    "# Question 9. Register the DataFrame as a SQL temporary view.\n",
    "# Give the name 'table'.\n",
    "\n"
   ]
  },
  {
   "cell_type": "code",
   "execution_count": null,
   "metadata": {},
   "outputs": [],
   "source": [
    "# Question 10. Select columns Name, Sex, Age, Vaping, and StudyWave from table.\n",
    "# Use show() to display result.\n",
    "\n"
   ]
  },
  {
   "cell_type": "code",
   "execution_count": null,
   "metadata": {},
   "outputs": [],
   "source": [
    "# Question 11. Select all columns.\n",
    "# Use show() to display result.\n",
    "\n"
   ]
  },
  {
   "cell_type": "code",
   "execution_count": null,
   "metadata": {},
   "outputs": [],
   "source": [
    "# Question 12. Select Name and Age from table and filter rows\n",
    "# where Age is less than 90 and Vaping is equal to 1.\n",
    "# Use show() to display result.\n",
    "\n",
    "\n"
   ]
  },
  {
   "cell_type": "code",
   "execution_count": null,
   "metadata": {},
   "outputs": [],
   "source": [
    "# Question 13. Mutate table by creating a new column named \"CigarettesPerYear\".\n",
    "# Select from table Name, select Name, CigarettesPerMonth, and StudyWave, and \n",
    "# multiply CigarettesPerMonth by 12 as CigarettesPerYear. \n",
    "# Use show() to display result.\n",
    "\n",
    "\n"
   ]
  },
  {
   "cell_type": "code",
   "execution_count": null,
   "metadata": {},
   "outputs": [],
   "source": [
    "# Question 14. Select columns Name, Sex, Vaping, and CigarettesPerMonth.\n",
    "# Order by CigarettesPerMonth in ascending order.\n",
    "# Use show() to display result.\n",
    "\n",
    "\n"
   ]
  },
  {
   "cell_type": "code",
   "execution_count": null,
   "metadata": {},
   "outputs": [],
   "source": [
    "# Question 15. Select max age from table.\n",
    "# Use show() to display result.\n",
    "\n"
   ]
  },
  {
   "cell_type": "code",
   "execution_count": null,
   "metadata": {},
   "outputs": [],
   "source": [
    "# stop the Spark session\n",
    "spark.stop()\n",
    "sc.stop()"
   ]
  }
 ],
 "metadata": {
  "kernelspec": {
   "display_name": "Python 3",
   "language": "python",
   "name": "python3"
  },
  "language_info": {
   "codemirror_mode": {
    "name": "ipython",
    "version": 3
   },
   "file_extension": ".py",
   "mimetype": "text/x-python",
   "name": "python",
   "nbconvert_exporter": "python",
   "pygments_lexer": "ipython3",
   "version": "3.6.7"
  }
 },
 "nbformat": 4,
 "nbformat_minor": 2
}
