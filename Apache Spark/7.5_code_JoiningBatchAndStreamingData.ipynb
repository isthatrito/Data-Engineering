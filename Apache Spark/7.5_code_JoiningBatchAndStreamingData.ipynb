{
 "cells": [
  {
   "cell_type": "code",
   "execution_count": null,
   "metadata": {},
   "outputs": [],
   "source": [
    "# Example of Joining batch and streaming data"
   ]
  },
  {
   "cell_type": "code",
   "execution_count": 1,
   "metadata": {},
   "outputs": [],
   "source": [
    "import findspark\n",
    "findspark.init()"
   ]
  },
  {
   "cell_type": "code",
   "execution_count": 2,
   "metadata": {},
   "outputs": [],
   "source": [
    "import pyspark\n",
    "from pyspark import SparkContext"
   ]
  },
  {
   "cell_type": "code",
   "execution_count": 3,
   "metadata": {},
   "outputs": [],
   "source": [
    "from pyspark.sql import SparkSession\n",
    "from pyspark.sql.functions import explode\n",
    "from pyspark.sql.functions import split\n",
    "from pyspark.sql.types import *"
   ]
  },
  {
   "cell_type": "code",
   "execution_count": 4,
   "metadata": {},
   "outputs": [],
   "source": [
    "spark = SparkSession \\\n",
    "        .builder \\\n",
    "        .appName(\"Joining\")\\\n",
    "        .getOrCreate()"
   ]
  },
  {
   "cell_type": "code",
   "execution_count": 5,
   "metadata": {},
   "outputs": [],
   "source": [
    "# schema for the batch data\n",
    "batch_schema = StructType([StructField('Traveler_ID', StringType(), True),\\\n",
    "                                     StructField('Vacation_Spot', StringType(), True),\\\n",
    "                                     StructField('Travel_Rewards', StringType(),True)])"
   ]
  },
  {
   "cell_type": "code",
   "execution_count": 6,
   "metadata": {},
   "outputs": [],
   "source": [
    "# read in the batch data\n",
    "travelerDF = spark.read\\\n",
    "                    .format(\"csv\")\\\n",
    "                    .option(\"header\", \"true\")\\\n",
    "                    .schema(batch_schema)\\\n",
    "                    .load(\"VacationDatasets/batch_vacation_data/batch_data.csv\")"
   ]
  },
  {
   "cell_type": "code",
   "execution_count": 7,
   "metadata": {},
   "outputs": [],
   "source": [
    "# schema for the streaming data\n",
    "streaming_schema = StructType([StructField('Traveler_ID', StringType(), True),\\\n",
    "                                     StructField('Travel_Expense', StringType(), True),\\\n",
    "                                     StructField('Vacation_Rating', StringType(),True)])"
   ]
  },
  {
   "cell_type": "code",
   "execution_count": 8,
   "metadata": {},
   "outputs": [],
   "source": [
    "# read in the streaming data\n",
    "fileStreamDf = spark.readStream\\\n",
    "                .option(\"header\", \"true\")\\\n",
    "                .option(\"maxFilesPerTrigger\",1)\\\n",
    "                .schema(streaming_schema)\\\n",
    "                .csv(\"VacationDatasets/streaming_vacation_data\")"
   ]
  },
  {
   "cell_type": "code",
   "execution_count": 9,
   "metadata": {},
   "outputs": [],
   "source": [
    "# Join batch and streaming data\n",
    "joinedDF = travelerDF.join(fileStreamDf, \"Traveler_ID\")"
   ]
  },
  {
   "cell_type": "code",
   "execution_count": null,
   "metadata": {},
   "outputs": [],
   "source": [
    "# write the output out to console\n",
    "# notice that we use writeStream as output is a streaming data\n",
    "query = joinedDF\\\n",
    "        .writeStream\\\n",
    "        .outputMode('append')\\\n",
    "        .format('console')\\\n",
    "        .start()\n",
    "\n",
    "query.awaitTermination()        \n"
   ]
  },
  {
   "cell_type": "code",
   "execution_count": null,
   "metadata": {},
   "outputs": [],
   "source": []
  }
 ],
 "metadata": {
  "kernelspec": {
   "display_name": "Python 3",
   "language": "python",
   "name": "python3"
  },
  "language_info": {
   "codemirror_mode": {
    "name": "ipython",
    "version": 3
   },
   "file_extension": ".py",
   "mimetype": "text/x-python",
   "name": "python",
   "nbconvert_exporter": "python",
   "pygments_lexer": "ipython3",
   "version": "3.6.7"
  }
 },
 "nbformat": 4,
 "nbformat_minor": 2
}
