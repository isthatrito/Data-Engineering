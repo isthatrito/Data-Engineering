{
 "cells": [
  {
   "cell_type": "code",
   "execution_count": 1,
   "metadata": {},
   "outputs": [],
   "source": [
    "# In the first cell, type:\n",
    "import findspark\n",
    "findspark.init()"
   ]
  },
  {
   "cell_type": "code",
   "execution_count": 2,
   "metadata": {},
   "outputs": [],
   "source": [
    "import pyspark # only run after findspark.init()\n",
    "from pyspark.sql import SparkSession\n",
    "spark = SparkSession.builder.getOrCreate()\n",
    "sc = spark.sparkContext"
   ]
  },
  {
   "cell_type": "code",
   "execution_count": 3,
   "metadata": {},
   "outputs": [],
   "source": [
    "# other imports\n",
    "import pyspark.sql.functions as F\n",
    "from pyspark.sql.types import StructType, StructField, StringType, IntegerType\n",
    "\n",
    "import pandas as pd"
   ]
  },
  {
   "cell_type": "code",
   "execution_count": 4,
   "metadata": {},
   "outputs": [],
   "source": [
    "# Sample dataset 1\n",
    "# Use this sample dataset that represents a  mock tobacco use research study\n",
    "\n",
    "tobacco1_data = {'ParticipantId': {0: 1, 1: 2, 2: 3, 3: 4, 4: 5, 5: 6},\n",
    "         'Name': {0: 'Joe', 1: 'Virginia', 2: 'Lucky', 3: 'Winston', 4: 'Marl', 5: 'Newport'},\n",
    "         'Sex': {0: 'male', 1: 'female', 2: 'female', 3: 'male', 4: 'male', 5: 'female'},\n",
    "         'Vaping': {0: 0, 1: 1, 2: 1, 3: 1, 4: 0, 5: 0}}"
   ]
  },
  {
   "cell_type": "code",
   "execution_count": 5,
   "metadata": {},
   "outputs": [],
   "source": [
    "# Sample dataset 2\n",
    "tobacco2_data = {'ParticipantId': {0: 1, 1: 2, 2: 3, 3: 4, 4: 5, 5: 6},\n",
    "         'Age': {0: 25, 1: 38, 2: 47, 3: 54, 4: 35, 5: 90},\n",
    "         'CigarettesPerMonth': {0: 65, 1: 224, 2: 90, 3: 301, 4: 180, 5: 240},\n",
    "         'StudyWave': {0: 3, 1: 2, 2: 2, 3: 3, 4: 4, 5: 4}}"
   ]
  },
  {
   "cell_type": "code",
   "execution_count": 6,
   "metadata": {},
   "outputs": [],
   "source": [
    "# create pandas dataframes df1_pd and df2_pd as shown below with code.\n",
    "df1_pd = pd.DataFrame(tobacco1_data, columns=tobacco1_data.keys())\n",
    "df2_pd = pd.DataFrame(tobacco2_data, columns=tobacco2_data.keys())"
   ]
  },
  {
   "cell_type": "code",
   "execution_count": 7,
   "metadata": {},
   "outputs": [],
   "source": [
    "# Question 1.  Create 2 dataframes, df1 and df2, with spark.createDataFrame().\n",
    "# Use df1_pd and df2_pd as inputs.\n",
    "df1 = spark.createDataFrame(df1_pd)\n",
    "df2 = spark.createDataFrame(df2_pd)"
   ]
  },
  {
   "cell_type": "code",
   "execution_count": 8,
   "metadata": {},
   "outputs": [
    {
     "name": "stdout",
     "output_type": "stream",
     "text": [
      "+-------------+--------+------+------+\n",
      "|ParticipantId|    Name|   Sex|Vaping|\n",
      "+-------------+--------+------+------+\n",
      "|            1|     Joe|  male|     0|\n",
      "|            2|Virginia|female|     1|\n",
      "|            3|   Lucky|female|     1|\n",
      "|            4| Winston|  male|     1|\n",
      "|            5|    Marl|  male|     0|\n",
      "|            6| Newport|female|     0|\n",
      "+-------------+--------+------+------+\n",
      "\n"
     ]
    }
   ],
   "source": [
    "# Question 2.  Display df1 with show().\n",
    "# Display dataframe as df1.\n",
    "df1.show()"
   ]
  },
  {
   "cell_type": "code",
   "execution_count": 9,
   "metadata": {},
   "outputs": [
    {
     "name": "stdout",
     "output_type": "stream",
     "text": [
      "+-------------+---+------------------+---------+\n",
      "|ParticipantId|Age|CigarettesPerMonth|StudyWave|\n",
      "+-------------+---+------------------+---------+\n",
      "|            1| 25|                65|        3|\n",
      "|            2| 38|               224|        2|\n",
      "|            3| 47|                90|        2|\n",
      "|            4| 54|               301|        3|\n",
      "|            5| 35|               180|        4|\n",
      "|            6| 90|               240|        4|\n",
      "+-------------+---+------------------+---------+\n",
      "\n"
     ]
    }
   ],
   "source": [
    "# Question 3.  Display df2 with show().\n",
    "# Display dataframe, df2.\n",
    "df2.show()"
   ]
  },
  {
   "cell_type": "code",
   "execution_count": 10,
   "metadata": {},
   "outputs": [],
   "source": [
    "# Question 4. Join df1 with df2 on ParticipantID and save as df_full.\n",
    "# Join the two dataframes\n",
    "df_full = df1.join(df2, ['ParticipantId'])"
   ]
  },
  {
   "cell_type": "code",
   "execution_count": 11,
   "metadata": {},
   "outputs": [
    {
     "data": {
      "text/plain": [
       "DataFrame[ParticipantId: bigint, Name: string, Sex: string, Vaping: bigint, Age: bigint, CigarettesPerMonth: bigint, StudyWave: bigint]"
      ]
     },
     "execution_count": 11,
     "metadata": {},
     "output_type": "execute_result"
    }
   ],
   "source": [
    "# Question 5. Verify object dataframe, df_full has been created.\n",
    "df_full"
   ]
  },
  {
   "cell_type": "code",
   "execution_count": 12,
   "metadata": {},
   "outputs": [
    {
     "name": "stdout",
     "output_type": "stream",
     "text": [
      "+-------------+--------+------+------+---+------------------+---------+\n",
      "|ParticipantId|    Name|   Sex|Vaping|Age|CigarettesPerMonth|StudyWave|\n",
      "+-------------+--------+------+------+---+------------------+---------+\n",
      "|            6| Newport|female|     0| 90|               240|        4|\n",
      "|            5|    Marl|  male|     0| 35|               180|        4|\n",
      "|            1|     Joe|  male|     0| 25|                65|        3|\n",
      "|            3|   Lucky|female|     1| 47|                90|        2|\n",
      "|            2|Virginia|female|     1| 38|               224|        2|\n",
      "|            4| Winston|  male|     1| 54|               301|        3|\n",
      "+-------------+--------+------+------+---+------------------+---------+\n",
      "\n"
     ]
    }
   ],
   "source": [
    "# Question 6. Display the dataframe, df_full with show().\n",
    "df_full.show()"
   ]
  },
  {
   "cell_type": "code",
   "execution_count": 13,
   "metadata": {},
   "outputs": [],
   "source": [
    "# Question 7.\n",
    "# Use pyspark.sql.functions as built in functions. Create a variable called \n",
    "# SmokerType and use the when clause to set up conditionals. When\n",
    "# CigarettesPerMonth is greater than 200, denote it as 'Heavy'. When\n",
    "# CigarettesPerMonth is greater than 100, denote it as 'Medium'. Otherwise,\n",
    "# denote as 'Light'.\n",
    "SmokerType = (\n",
    "    F.\n",
    "    when(F.col('CigarettesPerMonth') > 200, 'Heavy').\n",
    "    when(F.col('CigarettesPerMonth') > 100, 'Medium').\n",
    "    otherwise('Light')\n",
    ")"
   ]
  },
  {
   "cell_type": "code",
   "execution_count": 14,
   "metadata": {},
   "outputs": [
    {
     "name": "stdout",
     "output_type": "stream",
     "text": [
      "+-------------+--------+------+------+---+------------------+---------+-----------+\n",
      "|ParticipantId|    Name|   Sex|Vaping|Age|CigarettesPerMonth|StudyWave|Smoker Type|\n",
      "+-------------+--------+------+------+---+------------------+---------+-----------+\n",
      "|            6| Newport|female|     0| 90|               240|        4|      Heavy|\n",
      "|            5|    Marl|  male|     0| 35|               180|        4|     Medium|\n",
      "|            1|     Joe|  male|     0| 25|                65|        3|      Light|\n",
      "|            3|   Lucky|female|     1| 47|                90|        2|      Light|\n",
      "|            2|Virginia|female|     1| 38|               224|        2|      Heavy|\n",
      "|            4| Winston|  male|     1| 54|               301|        3|      Heavy|\n",
      "+-------------+--------+------+------+---+------------------+---------+-----------+\n",
      "\n"
     ]
    }
   ],
   "source": [
    "# Question 8. Create another column in the dataframe, \n",
    "# using the withColumn('Smoker Type', SmokerType)\n",
    "# Use show() to display result.\n",
    "df_full.withColumn('Smoker Type', SmokerType).show()"
   ]
  },
  {
   "cell_type": "code",
   "execution_count": 15,
   "metadata": {},
   "outputs": [],
   "source": [
    "# Question 9. Register the DataFrame as a SQL temporary view.\n",
    "# Give the name 'table'.\n",
    "df_full.createOrReplaceTempView('table')"
   ]
  },
  {
   "cell_type": "code",
   "execution_count": 16,
   "metadata": {},
   "outputs": [
    {
     "name": "stdout",
     "output_type": "stream",
     "text": [
      "+--------+------+---+------+---------+\n",
      "|    Name|   Sex|Age|Vaping|StudyWave|\n",
      "+--------+------+---+------+---------+\n",
      "| Newport|female| 90|     0|        4|\n",
      "|    Marl|  male| 35|     0|        4|\n",
      "|     Joe|  male| 25|     0|        3|\n",
      "|   Lucky|female| 47|     1|        2|\n",
      "|Virginia|female| 38|     1|        2|\n",
      "| Winston|  male| 54|     1|        3|\n",
      "+--------+------+---+------+---------+\n",
      "\n"
     ]
    }
   ],
   "source": [
    "# Question 10. Select columns Name, Sex, Age, Vaping, and StudyWave from table.\n",
    "# Use show() to display result.\n",
    "spark.sql('select Name, Sex, Age, Vaping, StudyWave from table').show()"
   ]
  },
  {
   "cell_type": "code",
   "execution_count": 17,
   "metadata": {},
   "outputs": [
    {
     "name": "stdout",
     "output_type": "stream",
     "text": [
      "+-------------+--------+------+------+---+------------------+---------+\n",
      "|ParticipantId|    Name|   Sex|Vaping|Age|CigarettesPerMonth|StudyWave|\n",
      "+-------------+--------+------+------+---+------------------+---------+\n",
      "|            6| Newport|female|     0| 90|               240|        4|\n",
      "|            5|    Marl|  male|     0| 35|               180|        4|\n",
      "|            1|     Joe|  male|     0| 25|                65|        3|\n",
      "|            3|   Lucky|female|     1| 47|                90|        2|\n",
      "|            2|Virginia|female|     1| 38|               224|        2|\n",
      "|            4| Winston|  male|     1| 54|               301|        3|\n",
      "+-------------+--------+------+------+---+------------------+---------+\n",
      "\n"
     ]
    }
   ],
   "source": [
    "# Question 11. Select all columns.\n",
    "# Use show() to display result.\n",
    "spark.sql('select * from table').show()"
   ]
  },
  {
   "cell_type": "code",
   "execution_count": 18,
   "metadata": {},
   "outputs": [
    {
     "name": "stdout",
     "output_type": "stream",
     "text": [
      "+--------+---+\n",
      "|    Name|Age|\n",
      "+--------+---+\n",
      "|   Lucky| 47|\n",
      "|Virginia| 38|\n",
      "| Winston| 54|\n",
      "+--------+---+\n",
      "\n"
     ]
    }
   ],
   "source": [
    "# Question 12. Select Name and Age from table and filter rows\n",
    "# where Age is less than 90 and Vaping is equal to 1.\n",
    "# Use show() to display result.\n",
    "spark.sql('select Name, Age from table \\\n",
    "          where Age < 90 and Vaping == 1').show()"
   ]
  },
  {
   "cell_type": "code",
   "execution_count": 19,
   "metadata": {},
   "outputs": [
    {
     "name": "stdout",
     "output_type": "stream",
     "text": [
      "+--------+------------------+---------+-----------------+\n",
      "|    Name|CigarettesPerMonth|StudyWave|CigarettesPerYear|\n",
      "+--------+------------------+---------+-----------------+\n",
      "| Newport|               240|        4|             2880|\n",
      "|    Marl|               180|        4|             2160|\n",
      "|     Joe|                65|        3|              780|\n",
      "|   Lucky|                90|        2|             1080|\n",
      "|Virginia|               224|        2|             2688|\n",
      "| Winston|               301|        3|             3612|\n",
      "+--------+------------------+---------+-----------------+\n",
      "\n"
     ]
    }
   ],
   "source": [
    "# Question 13. Mutate table by creating a new column named \"CigarettesPerYear\".\n",
    "# Select from table Name, select Name, CigarettesPerMonth, and StudyWave, and \n",
    "# multiply CigarettesPerMonth by 12 as CigarettesPerYear. \n",
    "# Use show() to display result.\n",
    "spark.sql('select Name, CigarettesPerMonth, StudyWave, \\\n",
    "          CigarettesPerMonth*12 as CigarettesPerYear from table').show()"
   ]
  },
  {
   "cell_type": "code",
   "execution_count": 20,
   "metadata": {},
   "outputs": [
    {
     "name": "stdout",
     "output_type": "stream",
     "text": [
      "+--------+------+------+------------------+\n",
      "|    Name|   Sex|Vaping|CigarettesPerMonth|\n",
      "+--------+------+------+------------------+\n",
      "|     Joe|  male|     0|                65|\n",
      "|   Lucky|female|     1|                90|\n",
      "|    Marl|  male|     0|               180|\n",
      "|Virginia|female|     1|               224|\n",
      "| Newport|female|     0|               240|\n",
      "| Winston|  male|     1|               301|\n",
      "+--------+------+------+------------------+\n",
      "\n"
     ]
    }
   ],
   "source": [
    "# Question 14. Select columns Name, Sex, Vaping, and CigarettesPerMonth.\n",
    "# Order by CigarettesPerMonth in ascending order.\n",
    "# Use show() to display result.\n",
    "spark.sql('select Name, Sex, Vaping, CigarettesPerMonth from table \\\n",
    "          order by CigarettesPerMonth asc').show()"
   ]
  },
  {
   "cell_type": "code",
   "execution_count": 21,
   "metadata": {},
   "outputs": [
    {
     "name": "stdout",
     "output_type": "stream",
     "text": [
      "+--------+\n",
      "|max(Age)|\n",
      "+--------+\n",
      "|      90|\n",
      "+--------+\n",
      "\n"
     ]
    }
   ],
   "source": [
    "# Question 15. Select max age from table.\n",
    "# Use show() to display result.\n",
    "spark.sql('select max(Age) from table').show()"
   ]
  },
  {
   "cell_type": "code",
   "execution_count": 22,
   "metadata": {},
   "outputs": [],
   "source": [
    "# stop the Spark session\n",
    "spark.stop()\n",
    "sc.stop()"
   ]
  }
 ],
 "metadata": {
  "kernelspec": {
   "display_name": "Python 3",
   "language": "python",
   "name": "python3"
  },
  "language_info": {
   "codemirror_mode": {
    "name": "ipython",
    "version": 3
   },
   "file_extension": ".py",
   "mimetype": "text/x-python",
   "name": "python",
   "nbconvert_exporter": "python",
   "pygments_lexer": "ipython3",
   "version": "3.6.7"
  }
 },
 "nbformat": 4,
 "nbformat_minor": 2
}
