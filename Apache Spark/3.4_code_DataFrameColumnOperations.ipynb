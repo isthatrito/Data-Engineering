{
 "cells": [
  {
   "cell_type": "code",
   "execution_count": 1,
   "metadata": {},
   "outputs": [],
   "source": [
    "# start the Spark Context\n",
    "import findspark\n",
    "findspark.init()"
   ]
  },
  {
   "cell_type": "code",
   "execution_count": 2,
   "metadata": {},
   "outputs": [],
   "source": [
    "import pyspark # only run after findspark.init()"
   ]
  },
  {
   "cell_type": "code",
   "execution_count": 3,
   "metadata": {},
   "outputs": [],
   "source": [
    "from pyspark.sql import SparkSession\n",
    "sc = pyspark.SparkContext(appName=\"col\")"
   ]
  },
  {
   "cell_type": "code",
   "execution_count": 4,
   "metadata": {},
   "outputs": [],
   "source": [
    "spark = SparkSession.builder.getOrCreate()"
   ]
  },
  {
   "cell_type": "code",
   "execution_count": 5,
   "metadata": {},
   "outputs": [],
   "source": [
    "import pyspark.sql.functions as F\n",
    "from pyspark.sql.types import StructType, StructField, StringType, IntegerType"
   ]
  },
  {
   "cell_type": "code",
   "execution_count": 6,
   "metadata": {},
   "outputs": [],
   "source": [
    "data = [('patty', 'spring', 'baseball', 64),\n",
    "        ('matty', 'autumn', 'hockey', 90),\n",
    "        ('cathy', 'spring', 'baseball', 100),\n",
    "        ('sandy', 'autumn', 'soccer', 50),\n",
    "        ('joey', 'summer', 'soccer', 73),\n",
    "        ('tammy', 'spring', 'soccer', 86),\n",
    "        ('marley', 'autumn', 'hockey', 100)]"
   ]
  },
  {
   "cell_type": "code",
   "execution_count": 7,
   "metadata": {},
   "outputs": [],
   "source": [
    "# create an rdd\n",
    "rdd = sc.parallelize(data)"
   ]
  },
  {
   "cell_type": "code",
   "execution_count": 8,
   "metadata": {},
   "outputs": [
    {
     "data": {
      "text/plain": [
       "[('patty', 'spring', 'baseball', 64),\n",
       " ('matty', 'autumn', 'hockey', 90),\n",
       " ('cathy', 'spring', 'baseball', 100),\n",
       " ('sandy', 'autumn', 'soccer', 50)]"
      ]
     },
     "execution_count": 8,
     "metadata": {},
     "output_type": "execute_result"
    }
   ],
   "source": [
    "# take first 4 elements\n",
    "rdd.take(4)\n"
   ]
  },
  {
   "cell_type": "code",
   "execution_count": 9,
   "metadata": {},
   "outputs": [],
   "source": [
    "# create a dataframe from an rdd and name the columns\n",
    "df = spark.createDataFrame(rdd, ['player', 'season', 'sport', 'ranking'])"
   ]
  },
  {
   "cell_type": "code",
   "execution_count": 10,
   "metadata": {},
   "outputs": [
    {
     "name": "stdout",
     "output_type": "stream",
     "text": [
      "+------+------+--------+-------+\n",
      "|player|season|   sport|ranking|\n",
      "+------+------+--------+-------+\n",
      "| patty|spring|baseball|     64|\n",
      "| matty|autumn|  hockey|     90|\n",
      "| cathy|spring|baseball|    100|\n",
      "| sandy|autumn|  soccer|     50|\n",
      "|  joey|summer|  soccer|     73|\n",
      "| tammy|spring|  soccer|     86|\n",
      "|marley|autumn|  hockey|    100|\n",
      "+------+------+--------+-------+\n",
      "\n"
     ]
    }
   ],
   "source": [
    "df.show()"
   ]
  },
  {
   "cell_type": "code",
   "execution_count": 11,
   "metadata": {},
   "outputs": [
    {
     "name": "stdout",
     "output_type": "stream",
     "text": [
      "+------+------+--------+-------+\n",
      "|player|season|   sport|ranking|\n",
      "+------+------+--------+-------+\n",
      "| patty|spring|baseball|     64|\n",
      "| matty|autumn|  hockey|     90|\n",
      "| cathy|spring|baseball|    100|\n",
      "| sandy|autumn|  soccer|     50|\n",
      "+------+------+--------+-------+\n",
      "only showing top 4 rows\n",
      "\n"
     ]
    }
   ],
   "source": [
    "# show the first 4 elements\n",
    "df.show(4)"
   ]
  },
  {
   "cell_type": "code",
   "execution_count": 12,
   "metadata": {},
   "outputs": [
    {
     "data": {
      "text/plain": [
       "Row(player='patty', season='spring', sport='baseball', ranking=64)"
      ]
     },
     "execution_count": 12,
     "metadata": {},
     "output_type": "execute_result"
    }
   ],
   "source": [
    "# take the header of the dataframe\n",
    "df.head()"
   ]
  },
  {
   "cell_type": "code",
   "execution_count": 13,
   "metadata": {},
   "outputs": [
    {
     "data": {
      "text/plain": [
       "7"
      ]
     },
     "execution_count": 13,
     "metadata": {},
     "output_type": "execute_result"
    }
   ],
   "source": [
    "# count the number of elements in the dataframe\n",
    "df.count()"
   ]
  },
  {
   "cell_type": "code",
   "execution_count": 14,
   "metadata": {},
   "outputs": [
    {
     "name": "stdout",
     "output_type": "stream",
     "text": [
      "+-------+------+------+--------+------------------+\n",
      "|summary|player|season|   sport|           ranking|\n",
      "+-------+------+------+--------+------------------+\n",
      "|  count|     7|     7|       7|                 7|\n",
      "|   mean|  null|  null|    null| 80.42857142857143|\n",
      "| stddev|  null|  null|    null|18.884359867865463|\n",
      "|    min| cathy|autumn|baseball|                50|\n",
      "|    max| tammy|summer|  soccer|               100|\n",
      "+-------+------+------+--------+------------------+\n",
      "\n"
     ]
    }
   ],
   "source": [
    "# describe the dataframe\n",
    "df.describe().show()\n"
   ]
  },
  {
   "cell_type": "code",
   "execution_count": 15,
   "metadata": {},
   "outputs": [
    {
     "name": "stdout",
     "output_type": "stream",
     "text": [
      "root\n",
      " |-- player: string (nullable = true)\n",
      " |-- season: string (nullable = true)\n",
      " |-- sport: string (nullable = true)\n",
      " |-- ranking: long (nullable = true)\n",
      "\n"
     ]
    }
   ],
   "source": [
    "# print schema\n",
    "df.printSchema()"
   ]
  },
  {
   "cell_type": "code",
   "execution_count": 16,
   "metadata": {},
   "outputs": [
    {
     "name": "stdout",
     "output_type": "stream",
     "text": [
      "+------+--------+-------+\n",
      "|player|   sport|ranking|\n",
      "+------+--------+-------+\n",
      "| patty|baseball|     64|\n",
      "| matty|  hockey|     90|\n",
      "| cathy|baseball|    100|\n",
      "| sandy|  soccer|     50|\n",
      "|  joey|  soccer|     73|\n",
      "| tammy|  soccer|     86|\n",
      "|marley|  hockey|    100|\n",
      "+------+--------+-------+\n",
      "\n"
     ]
    }
   ],
   "source": [
    "# select columns\n",
    "df.select(['player', 'sport', 'ranking']).show()"
   ]
  },
  {
   "cell_type": "code",
   "execution_count": 17,
   "metadata": {},
   "outputs": [
    {
     "name": "stdout",
     "output_type": "stream",
     "text": [
      "+------+------+--------+-------+\n",
      "|player|season|   sport|ranking|\n",
      "+------+------+--------+-------+\n",
      "| matty|autumn|  hockey|     90|\n",
      "| cathy|spring|baseball|    100|\n",
      "| tammy|spring|  soccer|     86|\n",
      "|marley|autumn|  hockey|    100|\n",
      "+------+------+--------+-------+\n",
      "\n"
     ]
    }
   ],
   "source": [
    "# filter where values are greater than 85 in rows of column 'ranking'\n",
    "df.filter(df['ranking'] > 85).show()"
   ]
  },
  {
   "cell_type": "code",
   "execution_count": 18,
   "metadata": {},
   "outputs": [
    {
     "name": "stdout",
     "output_type": "stream",
     "text": [
      "+------+------+------+-------+\n",
      "|player|season| sport|ranking|\n",
      "+------+------+------+-------+\n",
      "| matty|autumn|hockey|     90|\n",
      "| sandy|autumn|soccer|     50|\n",
      "|marley|autumn|hockey|    100|\n",
      "+------+------+------+-------+\n",
      "\n"
     ]
    }
   ],
   "source": [
    "# filter where the season is autumn\n",
    "df.filter(df['season'] == 'autumn').show()\n"
   ]
  },
  {
   "cell_type": "code",
   "execution_count": 19,
   "metadata": {},
   "outputs": [
    {
     "name": "stdout",
     "output_type": "stream",
     "text": [
      "+------+------+--------+-------+-----------+\n",
      "|player|season|   sport|ranking|new_ranking|\n",
      "+------+------+--------+-------+-----------+\n",
      "| patty|spring|baseball|     64|         49|\n",
      "| matty|autumn|  hockey|     90|         75|\n",
      "| cathy|spring|baseball|    100|         85|\n",
      "| sandy|autumn|  soccer|     50|         35|\n",
      "|  joey|summer|  soccer|     73|         58|\n",
      "| tammy|spring|  soccer|     86|         71|\n",
      "|marley|autumn|  hockey|    100|         85|\n",
      "+------+------+--------+-------+-----------+\n",
      "\n"
     ]
    }
   ],
   "source": [
    "# select columns and create a new one\n",
    "df.select(df['player'], df['season'], df['sport'], df['ranking'],\n",
    "          (df['ranking'] - 15).alias('new_ranking')).show()"
   ]
  },
  {
   "cell_type": "code",
   "execution_count": 20,
   "metadata": {},
   "outputs": [
    {
     "name": "stdout",
     "output_type": "stream",
     "text": [
      "+------+------+--------+-------+------------------+\n",
      "|player|season|   sport|ranking|   lowered_ranking|\n",
      "+------+------+--------+-------+------------------+\n",
      "| patty|spring|baseball|     64|             21.12|\n",
      "| matty|autumn|  hockey|     90|29.700000000000003|\n",
      "| cathy|spring|baseball|    100|              33.0|\n",
      "| sandy|autumn|  soccer|     50|              16.5|\n",
      "|  joey|summer|  soccer|     73|             24.09|\n",
      "| tammy|spring|  soccer|     86|28.380000000000003|\n",
      "|marley|autumn|  hockey|    100|              33.0|\n",
      "+------+------+--------+-------+------------------+\n",
      "\n"
     ]
    }
   ],
   "source": [
    "# use withColumn() to create a new column\n",
    "df.withColumn('lowered_ranking', df['ranking']* 0.33).show()"
   ]
  },
  {
   "cell_type": "code",
   "execution_count": 21,
   "metadata": {},
   "outputs": [
    {
     "name": "stdout",
     "output_type": "stream",
     "text": [
      "+------+------+--------+-------+\n",
      "|player|season|   sport|ranking|\n",
      "+------+------+--------+-------+\n",
      "| sandy|autumn|  soccer|     50|\n",
      "| patty|spring|baseball|     64|\n",
      "|  joey|summer|  soccer|     73|\n",
      "| tammy|spring|  soccer|     86|\n",
      "| matty|autumn|  hockey|     90|\n",
      "|marley|autumn|  hockey|    100|\n",
      "| cathy|spring|baseball|    100|\n",
      "+------+------+--------+-------+\n",
      "\n"
     ]
    }
   ],
   "source": [
    "# sort values in column\n",
    "df.sort(df['ranking']).show()"
   ]
  },
  {
   "cell_type": "code",
   "execution_count": 22,
   "metadata": {},
   "outputs": [
    {
     "name": "stdout",
     "output_type": "stream",
     "text": [
      "+------+------+--------+-------+\n",
      "|player|season|   sport|ranking|\n",
      "+------+------+--------+-------+\n",
      "|marley|autumn|  hockey|    100|\n",
      "| cathy|spring|baseball|    100|\n",
      "| matty|autumn|  hockey|     90|\n",
      "| tammy|spring|  soccer|     86|\n",
      "|  joey|summer|  soccer|     73|\n",
      "| patty|spring|baseball|     64|\n",
      "| sandy|autumn|  soccer|     50|\n",
      "+------+------+--------+-------+\n",
      "\n"
     ]
    }
   ],
   "source": [
    "# sort values in column in descending order\n",
    "df.sort(df['ranking'].desc()).show()"
   ]
  },
  {
   "cell_type": "code",
   "execution_count": 23,
   "metadata": {},
   "outputs": [
    {
     "name": "stdout",
     "output_type": "stream",
     "text": [
      "+------+------+--------+-------+\n",
      "|player|season|   sport|ranking|\n",
      "+------+------+--------+-------+\n",
      "|marley|autumn|  hockey|    100|\n",
      "| cathy|spring|baseball|    100|\n",
      "| matty|autumn|  hockey|     90|\n",
      "| tammy|spring|  soccer|     86|\n",
      "|  joey|summer|  soccer|     73|\n",
      "| patty|spring|baseball|     64|\n",
      "| sandy|autumn|  soccer|     50|\n",
      "+------+------+--------+-------+\n",
      "\n"
     ]
    }
   ],
   "source": [
    "# a different way to write the same code as previous\n",
    "df.sort(df.ranking.desc()).show()  "
   ]
  },
  {
   "cell_type": "code",
   "execution_count": null,
   "metadata": {},
   "outputs": [],
   "source": []
  }
 ],
 "metadata": {
  "kernelspec": {
   "display_name": "Python 3",
   "language": "python",
   "name": "python3"
  },
  "language_info": {
   "codemirror_mode": {
    "name": "ipython",
    "version": 3
   },
   "file_extension": ".py",
   "mimetype": "text/x-python",
   "name": "python",
   "nbconvert_exporter": "python",
   "pygments_lexer": "ipython3",
   "version": "3.6.6"
  }
 },
 "nbformat": 4,
 "nbformat_minor": 2
}
